{
 "cells": [
  {
   "cell_type": "markdown",
   "metadata": {},
   "source": [
    "<img align=\"Left\" alt=\"Dados_ao_Cubo\" src=\"../shared_content/DADOS-AO-CUBO-Versão-04-1.png\" />\n",
    "<img align=\"right\" alt=\"MLNet\" src=\"../shared_content/EJ3KsfJWsAEtDaZ.png\" />"
   ]
  },
  {
   "cell_type": "markdown",
   "metadata": {},
   "source": [
    "\n",
    "\n"
   ]
  },
  {
   "cell_type": "markdown",
   "metadata": {},
   "source": [
    "## Davi Ramos -> Cientista de Dados 👋\n",
    "(davi.info@gmail.com)\n",
    "\n",
    "[![Linkedin Badge](https://img.shields.io/badge/-LinkedIn-blue?style=flat-square&logo=Linkedin&logoColor=white&link=https://www.linkedin.com/in/davi-ramos/)](https://www.linkedin.com/in/davi-ramos/)\n",
    "[![Twitter Badge](https://img.shields.io/badge/-Twitter-1DA1F2?style=flat-square&logo=Twitter&logoColor=white&link=https://twitter.com/Daviinfo/)](https://twitter.com/Daviinfo/)\n",
    "<a href=\"https://github.com/DaviRamos\"><img src=\"https://img.shields.io/github/followers/DaviRamos.svg?label=GitHub&style=social\" alt=\"GitHub\"></a>"
   ]
  },
  {
   "cell_type": "markdown",
   "metadata": {},
   "source": [
    "# ML.Net - Regressão Linear"
   ]
  },
  {
   "cell_type": "markdown",
   "metadata": {},
   "source": [
    "## Este exemplo irá criar um modelo de regressão linear para prever os preços das residências utilizando os seus dados de tamanho e Preço."
   ]
  },
  {
   "cell_type": "code",
   "execution_count": 3,
   "metadata": {},
   "outputs": [],
   "source": [
    "// Instalar os Pacotes ML.NET do Nuget\n",
    "#r \"nuget:Microsoft.ML\""
   ]
  },
  {
   "cell_type": "code",
   "execution_count": 4,
   "metadata": {},
   "outputs": [],
   "source": [
    "using System;\n",
    "using System.IO;\n",
    "using Microsoft.ML;\n",
    "using Microsoft.ML.Data;\n",
    "using XPlot.Plotly;"
   ]
  },
  {
   "cell_type": "code",
   "execution_count": 5,
   "metadata": {},
   "outputs": [],
   "source": [
    "public class HouseData\n",
    "{\n",
    "    public float Size { get; set; }\n",
    "    public float Price { get; set; }\n",
    "}\n",
    "\n",
    "public class Prediction\n",
    "{\n",
    "    [ColumnName(\"Score\")]\n",
    "    public float Price { get; set; }\n",
    "}"
   ]
  },
  {
   "cell_type": "code",
   "execution_count": 6,
   "metadata": {},
   "outputs": [
    {
     "name": "stdout",
     "output_type": "stream",
     "text": [
      "O Preço previsto para este tamanho é: 2500 Metros Quadrados = R$275,11k\n"
     ]
    }
   ],
   "source": [
    "MLContext mlContext = new MLContext();\n",
    "\n",
    "// 1. Criar os dados de Treinamento\n",
    "HouseData[] houseData = {\n",
    "    new HouseData() { Size = 1.1F, Price = 1.2F },\n",
    "    new HouseData() { Size = 1.9F, Price = 2.3F },\n",
    "    new HouseData() { Size = 2.8F, Price = 3.0F },\n",
    "    new HouseData() { Size = 3.4F, Price = 3.7F } };\n",
    "IDataView trainingData = mlContext.Data.LoadFromEnumerable(houseData);\n",
    "\n",
    "// 2. Preparação dos dados e Treinamento do pipeline do Modelo\n",
    "var pipeline = mlContext.Transforms.Concatenate(\"Features\", new[] { \"Size\" })\n",
    "    .Append(mlContext.Regression.Trainers.Sdca(labelColumnName: \"Price\", maximumNumberOfIterations: 100));\n",
    "\n",
    "// 3. Treinar o Modelo\n",
    "var model = pipeline.Fit(trainingData);\n",
    "\n",
    "// 4. Fazer a predição\n",
    "var size = new HouseData() { Size = 2.5F };\n",
    "var price = mlContext.Model.CreatePredictionEngine<HouseData, Prediction>(model).Predict(size);\n",
    "\n",
    "Console.WriteLine($\"O Preço previsto para este tamanho é: {size.Size*1000} Metros Quadrados = {price.Price*100:C}k\");"
   ]
  },
  {
   "cell_type": "code",
   "execution_count": 7,
   "metadata": {},
   "outputs": [
    {
     "name": "stdout",
     "output_type": "stream",
     "text": [
      "R^2: 0,97\n",
      "RMS error: 0,17\n"
     ]
    }
   ],
   "source": [
    "// Avaliação do modelo       \n",
    "HouseData[] testHouseData =\n",
    "{\n",
    "    new HouseData() { Size = 1.1F, Price = 0.98F },\n",
    "    new HouseData() { Size = 1.9F, Price = 2.1F },\n",
    "    new HouseData() { Size = 2.8F, Price = 2.9F },\n",
    "    new HouseData() { Size = 3.4F, Price = 3.6F }\n",
    "};\n",
    "\n",
    "var testHouseDataView = mlContext.Data.LoadFromEnumerable(testHouseData);\n",
    "var testPriceDataView = model.Transform(testHouseDataView);\n",
    "\n",
    "var metrics = mlContext.Regression.Evaluate(testPriceDataView, labelColumnName: \"Price\");\n",
    "\n",
    "Console.WriteLine($\"R^2: {metrics.RSquared:0.##}\");\n",
    "Console.WriteLine($\"RMS error: {metrics.RootMeanSquaredError:0.##}\");"
   ]
  },
  {
   "cell_type": "code",
   "execution_count": 38,
   "metadata": {},
   "outputs": [
    {
     "data": {
      "text/html": [
       "<div id=\"c1ebd7d8-ced8-40eb-9cdc-542886918345\" style=\"width: 900px; height: 500px;\"></div>\r\n",
       "<script type=\"text/javascript\">\r\n",
       "\r\n",
       "var renderPlotly = function() {\r\n",
       "    var xplotRequire = requirejs.config({context:'xplot-3.0.1',paths:{plotly:'https://cdn.plot.ly/plotly-1.49.2.min'}});\r\n",
       "    xplotRequire(['plotly'], function(Plotly) {\r\n",
       "\n",
       "            var data = [{\"type\":\"scatter\",\"x\":[1.1,1.9,2.8,3.4],\"y\":[1.2,2.3,3.0,3.7],\"name\":\"Dados de Treinamento\"},{\"type\":\"scatter\",\"x\":[1.1,1.9,2.8,3.4],\"y\":[0.98,2.1,2.9,3.6],\"name\":\"Dados de Teste\"}];\n",
       "            var layout = {\"title\":\"Treinamento vs Teste\"};\n",
       "            Plotly.newPlot('c1ebd7d8-ced8-40eb-9cdc-542886918345', data, layout);\n",
       "        \r\n",
       "});\r\n",
       "};\r\n",
       "if ((typeof(requirejs) !==  typeof(Function)) || (typeof(requirejs.config) !== typeof(Function))) { \r\n",
       "    var script = document.createElement(\"script\"); \r\n",
       "    script.setAttribute(\"src\", \"https://cdnjs.cloudflare.com/ajax/libs/require.js/2.3.6/require.min.js\"); \r\n",
       "    script.onload = function(){\r\n",
       "        renderPlotly();\r\n",
       "    };\r\n",
       "    document.getElementsByTagName(\"head\")[0].appendChild(script); \r\n",
       "}\r\n",
       "else {\r\n",
       "    renderPlotly();\r\n",
       "}\r\n",
       "</script>\r\n"
      ]
     },
     "metadata": {},
     "output_type": "display_data"
    }
   ],
   "source": [
    "// Exemplo de um Gráfico do tipo Scatter com o XPlot\n",
    "\n",
    "var hx = new List<float>();\n",
    "var hf = new List<float>();\n",
    "\n",
    "foreach (var item in houseData)\n",
    "{\n",
    "   hx.Add(item.Size);\n",
    "   hf.Add(item.Price);    \n",
    "}\n",
    "\n",
    "var treinoSeries = new Graph.Scatter\n",
    "{\n",
    "    name = \"Dados de Treinamento\",\n",
    "    x = hx, \n",
    "    y = hf\n",
    "};\n",
    "\n",
    "var tx = new List<float>();\n",
    "var tf = new List<float>();\n",
    "\n",
    "foreach (var item in testHouseData)\n",
    "{\n",
    "   tx.Add(item.Size);\n",
    "   tf.Add(item.Price);    \n",
    "}\n",
    "\n",
    "var testeSeries = new Graph.Scatter\n",
    "{\n",
    "    name = \"Dados de Teste\",\n",
    "    x = tx, \n",
    "    y = tf\n",
    "};\n",
    "\n",
    "var chart = Chart.Plot(new[] {treinoSeries, testeSeries});\n",
    "chart.WithTitle(\"Treinamento vs Teste\");\n",
    "display(chart);"
   ]
  },
  {
   "cell_type": "code",
   "execution_count": 41,
   "metadata": {},
   "outputs": [],
   "source": [
    "//Salvar o modelo treinado em arquivo\n",
    "private static string modelPath = @\"./HouseModel.zip\";\n",
    "\n",
    "mlContext.Model.Save(model, trainingData.Schema, modelPath); "
   ]
  },
  {
   "cell_type": "markdown",
   "metadata": {},
   "source": [
    "## Fluxo de trabalho de código\n",
    "\n",
    "### O diagrama a seguir representa a estrutura de código do aplicativo e o seu processo iterativo para o desenvolvimento do modelo:\n",
    "\n",
    "![Fluxo](../shared_content/mldotnet-annotated-workflow.png)\n",
    "\n",
    "<ul>\n",
    "   <li>Coletar e carregar dados de treinamento em um objeto IDataView</li>\n",
    "   <li>Especifique um pipeline de operações para extrair recursos e aplicar um algoritmo de aprendizado de máquina</li>\n",
    "   <li>Treinar um modelo chamando Fit() no pipeline</li>\n",
    "   <li>Avaliar o modelo e iterar para melhorar</li>\n",
    "   <li>Salvar o modelo em um formato binário para uso em um aplicativo</li>\n",
    "   <li>Carregar o modelo de volta para um objeto ITransformer</li>\n",
    "   <li>Fazer previsões chamando CreatePredictionEngine.Predict()</li>\n",
    "</ul>"
   ]
  },
  {
   "cell_type": "markdown",
   "metadata": {},
   "source": [
    "## Nos próximos artigos iremos nos aprofundar um pouco mais nesses conceitos."
   ]
  }
 ],
 "metadata": {
  "kernelspec": {
   "display_name": ".NET (C#)",
   "language": "C#",
   "name": ".net-csharp"
  },
  "language_info": {
   "file_extension": ".cs",
   "mimetype": "text/x-csharp",
   "name": "C#",
   "pygments_lexer": "csharp",
   "version": "8.0"
  }
 },
 "nbformat": 4,
 "nbformat_minor": 4
}
