{
 "cells": [
  {
   "cell_type": "markdown",
   "metadata": {},
   "source": [
    "<img align=\"Left\" alt=\"Dados_ao_Cubo\" src=\"../shared_content/DADOS-AO-CUBO-Versão-04-1.png\" />\n",
    "<img align=\"right\" alt=\"MLNet\" src=\"../shared_content/EJ3KsfJWsAEtDaZ.png\" />"
   ]
  },
  {
   "cell_type": "markdown",
   "metadata": {},
   "source": [
    "\n",
    "\n"
   ]
  },
  {
   "cell_type": "markdown",
   "metadata": {},
   "source": [
    "## Davi Ramos -> Cientista de Dados 👋\n",
    "(davi.info@gmail.com)\n",
    "\n",
    "[![Linkedin Badge](https://img.shields.io/badge/-LinkedIn-blue?style=flat-square&logo=Linkedin&logoColor=white&link=https://www.linkedin.com/in/davi-ramos/)](https://www.linkedin.com/in/davi-ramos/)\n",
    "[![Twitter Badge](https://img.shields.io/badge/-Twitter-1DA1F2?style=flat-square&logo=Twitter&logoColor=white&link=https://twitter.com/Daviinfo/)](https://twitter.com/Daviinfo/)\n",
    "<a href=\"https://github.com/DaviRamos\"><img src=\"https://img.shields.io/github/followers/DaviRamos.svg?label=GitHub&style=social\" alt=\"GitHub\"></a>"
   ]
  },
  {
   "cell_type": "markdown",
   "metadata": {},
   "source": [
    "# ML.Net - RegressãoLinear"
   ]
  },
  {
   "cell_type": "markdown",
   "metadata": {},
   "source": [
    "## Este exemplo irá criar um modelo de regressão linear para prever os preços das residências utilizando os seus dados de tamanho."
   ]
  },
  {
   "cell_type": "code",
   "execution_count": 1,
   "metadata": {},
   "outputs": [
    {
     "data": {
      "text/html": [
       "\r\n",
       "<div>\r\n",
       "    <div id='dotnet-interactive-this-cell-ca9a9d66a57149038d81b71c902e760b' style='display: none'>\r\n",
       "        The below script needs to be able to find the current output cell; this is an easy method to get it.\r\n",
       "    </div>\r\n",
       "    <script type='text/javascript'>\r\n",
       "// ensure `requirejs` is available globally\r\n",
       "if (typeof requirejs !== typeof Function || typeof requirejs.config !== typeof Function) {\r\n",
       "    let requirejs_script = document.createElement('script');\r\n",
       "    requirejs_script.setAttribute('src', 'https://cdnjs.cloudflare.com/ajax/libs/require.js/2.3.6/require.min.js');\r\n",
       "    requirejs_script.setAttribute('type', 'text/javascript');\r\n",
       "    requirejs_script.onload = function () {\r\n",
       "        loadDotnetInteractiveApi();\r\n",
       "    };\r\n",
       "\r\n",
       "    document.getElementsByTagName('head')[0].appendChild(requirejs_script);\r\n",
       "}\r\n",
       "else {\r\n",
       "    loadDotnetInteractiveApi();\r\n",
       "}\r\n",
       "\r\n",
       "async function probeAddresses(probingAddresses) {\r\n",
       "    function timeout(ms, promise) {\r\n",
       "        return new Promise(function (resolve, reject) {\r\n",
       "            setTimeout(function () {\r\n",
       "                reject(new Error('timeout'))\r\n",
       "            }, ms)\r\n",
       "            promise.then(resolve, reject)\r\n",
       "        })\r\n",
       "    }\r\n",
       "\r\n",
       "    if (Array.isArray(probingAddresses)) {\r\n",
       "        for (let i = 0; i < probingAddresses.length; i++) {\r\n",
       "\r\n",
       "            let rootUrl = probingAddresses[i];\r\n",
       "\r\n",
       "            if (!rootUrl.endsWith('/')) {\r\n",
       "                rootUrl = `${rootUrl}/`;\r\n",
       "            }\r\n",
       "\r\n",
       "            try {\r\n",
       "                let response = await timeout(1000, fetch(`${rootUrl}discovery`, {\r\n",
       "                    method: 'POST',\r\n",
       "                    timeout: 1000,\r\n",
       "                    headers: {\r\n",
       "                        'Content-Type': 'text/plain'\r\n",
       "                    },\r\n",
       "                    body: probingAddresses[i]\r\n",
       "                }));\r\n",
       "\r\n",
       "                if (response.status == 200) {\r\n",
       "                    return rootUrl;\r\n",
       "                }\r\n",
       "            }\r\n",
       "            catch (e) { }\r\n",
       "        }\r\n",
       "    }\r\n",
       "}\r\n",
       "\r\n",
       "function loadDotnetInteractiveApi() {\r\n",
       "    probeAddresses([\"http://172.21.0.1:1000/\", \"http://172.26.48.1:1000/\", \"http://192.168.68.105:1000/\", \"http://127.0.0.1:1000/\"])\r\n",
       "        .then((root) => {\r\n",
       "            // use probing to find host url and api resources\r\n",
       "            // load interactive helpers and language services\r\n",
       "            let dotnet_require = requirejs.config({\r\n",
       "                context: '28828.ca9a9d66a57149038d81b71c902e760b',\r\n",
       "                paths: {\r\n",
       "                    'dotnet-interactive': `${root}resources`\r\n",
       "                }\r\n",
       "            });\r\n",
       "            if (!window.dotnet_require) {\r\n",
       "                window.dotnet_require = dotnet_require;\r\n",
       "            }\r\n",
       "        \r\n",
       "            dotnet_require([\r\n",
       "                    'dotnet-interactive/dotnet-interactive'\r\n",
       "                ],\r\n",
       "                function (dotnet) {\r\n",
       "                    dotnet.init(window);\r\n",
       "                },\r\n",
       "                function (error) {\r\n",
       "                    console.log(error);\r\n",
       "                }\r\n",
       "            );\r\n",
       "        })\r\n",
       "        .catch(error => {console.log(error);});\r\n",
       "    }\r\n",
       "    </script>\r\n",
       "</div>"
      ]
     },
     "metadata": {},
     "output_type": "display_data"
    },
    {
     "data": {
      "text/plain": [
       "Installed package Microsoft.ML version 1.5.1"
      ]
     },
     "metadata": {},
     "output_type": "display_data"
    }
   ],
   "source": [
    "// Instalar os Pacotes ML.NET do Nuget\n",
    "#r \"nuget:Microsoft.ML\""
   ]
  },
  {
   "cell_type": "code",
   "execution_count": 2,
   "metadata": {},
   "outputs": [],
   "source": [
    "using System;\n",
    "using System.IO;\n",
    "using Microsoft.ML;\n",
    "using Microsoft.ML.Data;"
   ]
  },
  {
   "cell_type": "code",
   "execution_count": 3,
   "metadata": {},
   "outputs": [],
   "source": [
    "public class HouseData\n",
    "{\n",
    "    public float Size { get; set; }\n",
    "    public float Price { get; set; }\n",
    "}\n",
    "\n",
    "public class Prediction\n",
    "{\n",
    "    [ColumnName(\"Score\")]\n",
    "    public float Price { get; set; }\n",
    "}"
   ]
  },
  {
   "cell_type": "code",
   "execution_count": 4,
   "metadata": {},
   "outputs": [
    {
     "name": "stdout",
     "output_type": "stream",
     "text": [
      "O Preço Predito para este tamanho é: 2500 Metros Quadrados = R$276,06k\n"
     ]
    }
   ],
   "source": [
    "MLContext mlContext = new MLContext();\n",
    "\n",
    "// 1. Criar os dados de Treinamento\n",
    "HouseData[] houseData = {\n",
    "    new HouseData() { Size = 1.1F, Price = 1.2F },\n",
    "    new HouseData() { Size = 1.9F, Price = 2.3F },\n",
    "    new HouseData() { Size = 2.8F, Price = 3.0F },\n",
    "    new HouseData() { Size = 3.4F, Price = 3.7F } };\n",
    "IDataView trainingData = mlContext.Data.LoadFromEnumerable(houseData);\n",
    "\n",
    "// 2. Preparação dos dados e Treinamento do pipeline do Modelo\n",
    "var pipeline = mlContext.Transforms.Concatenate(\"Features\", new[] { \"Size\" })\n",
    "    .Append(mlContext.Regression.Trainers.Sdca(labelColumnName: \"Price\", maximumNumberOfIterations: 100));\n",
    "\n",
    "// 3. Treinar o Modelo\n",
    "var model = pipeline.Fit(trainingData);\n",
    "\n",
    "// 4. Fazer a predição\n",
    "var size = new HouseData() { Size = 2.5F };\n",
    "var price = mlContext.Model.CreatePredictionEngine<HouseData, Prediction>(model).Predict(size);\n",
    "\n",
    "Console.WriteLine($\"O Preço Predito para este tamanho é: {size.Size*1000} Metros Quadrados = {price.Price*100:C}k\");"
   ]
  },
  {
   "cell_type": "code",
   "execution_count": 5,
   "metadata": {},
   "outputs": [
    {
     "name": "stdout",
     "output_type": "stream",
     "text": [
      "R^2: 0,96\n",
      "RMS error: 0,19\n"
     ]
    }
   ],
   "source": [
    "// Avaliação do modelo       \n",
    "HouseData[] testHouseData =\n",
    "{\n",
    "    new HouseData() { Size = 1.1F, Price = 0.98F },\n",
    "    new HouseData() { Size = 1.9F, Price = 2.1F },\n",
    "    new HouseData() { Size = 2.8F, Price = 2.9F },\n",
    "    new HouseData() { Size = 3.4F, Price = 3.6F }\n",
    "};\n",
    "\n",
    "var testHouseDataView = mlContext.Data.LoadFromEnumerable(testHouseData);\n",
    "var testPriceDataView = model.Transform(testHouseDataView);\n",
    "\n",
    "var metrics = mlContext.Regression.Evaluate(testPriceDataView, labelColumnName: \"Price\");\n",
    "\n",
    "Console.WriteLine($\"R^2: {metrics.RSquared:0.##}\");\n",
    "Console.WriteLine($\"RMS error: {metrics.RootMeanSquaredError:0.##}\");"
   ]
  },
  {
   "cell_type": "code",
   "execution_count": 7,
   "metadata": {},
   "outputs": [
    {
     "name": "stdout",
     "output_type": "stream",
     "text": [
      "=============== Saving the model to a file ===============\n"
     ]
    }
   ],
   "source": [
    "//Salvar o modelo treinado em arquivo\n",
    "private static string modelPath = @\"./HouseModel.zip\";\n",
    "\n",
    "Console.WriteLine(\"=============== Saving the model to a file ===============\");\n",
    "mlContext.Model.Save(model, trainingData.Schema, modelPath); "
   ]
  },
  {
   "cell_type": "markdown",
   "metadata": {},
   "source": [
    "## Fluxo de trabalho de código\n",
    "\n",
    "### O diagrama a seguir representa a estrutura de código do aplicativo e o seu processo iterativo para o desenvolvimento do modelo:\n",
    "\n",
    "![Fluxo](../shared_content/mldotnet-annotated-workflow.png)\n",
    "\n",
    "<ul>\n",
    "   <li>Coletar e carregar dados de treinamento em um objeto IDataView</li>\n",
    "   <li>Especifique um pipeline de operações para extrair recursos e aplicar um algoritmo de aprendizado de máquina</li>\n",
    "   <li>Treinar um modelo chamando Fit() no pipeline</li>\n",
    "   <li>Avaliar o modelo e iterar para melhorar</li>\n",
    "   <li>Salvar o modelo em um formato binário para uso em um aplicativo</li>\n",
    "   <li>Carregar o modelo de volta para um objeto ITransformer</li>\n",
    "   <li>Fazer previsões chamando CreatePredictionEngine.Predict()</li>\n",
    "</ul>"
   ]
  },
  {
   "cell_type": "markdown",
   "metadata": {},
   "source": [
    "## Nos próximos artigos iremos nos aprofundar um pouco mais nesses conceitos."
   ]
  }
 ],
 "metadata": {
  "kernelspec": {
   "display_name": ".NET (C#)",
   "language": "C#",
   "name": ".net-csharp"
  },
  "language_info": {
   "file_extension": ".cs",
   "mimetype": "text/x-csharp",
   "name": "C#",
   "pygments_lexer": "csharp",
   "version": "8.0"
  }
 },
 "nbformat": 4,
 "nbformat_minor": 4
}
