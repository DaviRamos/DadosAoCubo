{
 "cells": [
  {
   "cell_type": "markdown",
   "metadata": {},
   "source": [
    "<img align=\"Left\" alt=\"Dados_ao_Cubo\" src=\"../shared_content/DADOS-AO-CUBO-Versão-04-1.png\" />\n",
    "<img align=\"right\" alt=\"MLNet\" src=\"../shared_content/EJ3KsfJWsAEtDaZ.png\" />"
   ]
  },
  {
   "cell_type": "markdown",
   "metadata": {},
   "source": [
    "\n",
    "\n"
   ]
  },
  {
   "cell_type": "markdown",
   "metadata": {},
   "source": [
    "## Davi Ramos -> Cientista de Dados 👋\n",
    "(davi.info@gmail.com)\n",
    "\n",
    "[![Linkedin Badge](https://img.shields.io/badge/-LinkedIn-blue?style=flat-square&logo=Linkedin&logoColor=white&link=https://www.linkedin.com/in/davi-ramos/)](https://www.linkedin.com/in/davi-ramos/)\n",
    "[![Twitter Badge](https://img.shields.io/badge/-Twitter-1DA1F2?style=flat-square&logo=Twitter&logoColor=white&link=https://twitter.com/Daviinfo/)](https://twitter.com/Daviinfo/)\n",
    "<a href=\"https://github.com/DaviRamos\"><img src=\"https://img.shields.io/github/followers/DaviRamos.svg?label=GitHub&style=social\" alt=\"GitHub\"></a>"
   ]
  },
  {
   "cell_type": "markdown",
   "metadata": {},
   "source": [
    "# ML.Net - Auto ML"
   ]
  },
  {
   "cell_type": "markdown",
   "metadata": {},
   "source": [
    "## Este exemplo irá xxxxxx"
   ]
  },
  {
   "cell_type": "code",
   "execution_count": 19,
   "metadata": {},
   "outputs": [],
   "source": [
    "// Instalar os Pacotes do Nuget\n",
    "\n",
    "// ML.NET\n",
    "#r \"nuget:Microsoft.ML\"  \n",
    "\n",
    "// ML.NET AutoML\n",
    "#r \"nuget:Microsoft.ML.AutoML\" "
   ]
  },
  {
   "cell_type": "code",
   "execution_count": 20,
   "metadata": {},
   "outputs": [],
   "source": [
    "using System;\n",
    "using System.IO;\n",
    "using System.Linq;\n",
    "using Microsoft.ML;\n",
    "using Microsoft.ML.AutoML;\n",
    "using Microsoft.ML.Data;\n",
    "\n",
    "using static Microsoft.ML.TrainCatalogBase;\n",
    "using static Microsoft.ML.DataOperationsCatalog;"
   ]
  },
  {
   "cell_type": "code",
   "execution_count": 21,
   "metadata": {},
   "outputs": [],
   "source": [
    "// Caminho dos arquivos\n",
    "string housingPath = \"./Datasets/Housing/housing.csv\";\n",
    "string ModelPath = @\"./HouseModelv3.zip\";\n",
    "private static string LabelColumnName = \"Label\";\n",
    "private static uint ExperimentTime = 10;"
   ]
  },
  {
   "cell_type": "code",
   "execution_count": 22,
   "metadata": {},
   "outputs": [],
   "source": [
    "public class ModelInput\n",
    "{\n",
    "    [LoadColumn(0)]\n",
    "    public float Longitude { get; set; }\n",
    "    [LoadColumn(1)]\n",
    "    public float Latitude { get; set; }\n",
    "    [LoadColumn(2)]\n",
    "    public float Housing_median_age { get; set; }\n",
    "    [LoadColumn(3)]\n",
    "    public float Total_rooms { get; set; }\n",
    "    [LoadColumn(4)]\n",
    "    public float Total_bedrooms { get; set; }\n",
    "    [LoadColumn(5)]\n",
    "    public float Population { get; set; }\n",
    "    [LoadColumn(6)]\n",
    "    public float Households { get; set; }\n",
    "    [LoadColumn(7)]\n",
    "    public float Median_income { get; set; }\n",
    "    [ColumnName(\"Label\"), LoadColumn(8)]\n",
    "    public float Median_house_value { get; set; }\n",
    "    [LoadColumn(9)]\n",
    "    public string Ocean_proximity { get; set; }\n",
    "}\n",
    "\n",
    "public class ModelOutput\n",
    "{\n",
    "    [ColumnName(\"Score\")]\n",
    "    public float Score { get; set; }\n",
    "}"
   ]
  },
  {
   "cell_type": "code",
   "execution_count": 23,
   "metadata": {},
   "outputs": [],
   "source": [
    "private static void PrintMetrics(RegressionMetrics metrics)\n",
    "{\n",
    "    Console.WriteLine($\"MeanAbsoluteError: {metrics.MeanAbsoluteError}\");\n",
    "    Console.WriteLine($\"MeanSquaredError: {metrics.MeanSquaredError}\");\n",
    "    Console.WriteLine($\"RootMeanSquaredError: {metrics.RootMeanSquaredError}\");\n",
    "    Console.WriteLine($\"RSquared: {metrics.RSquared}\");\n",
    "}"
   ]
  },
  {
   "cell_type": "code",
   "execution_count": 24,
   "metadata": {},
   "outputs": [],
   "source": [
    "// Criar o MLContext para ser compartilhado entre os objetos de fluxo de trabalho de criação do modelo\n",
    "// Definir uma semente aleatória para resultados repetíveis/determinísticos nos vários treinamentos.\n",
    "MLContext mlContext = new MLContext(seed: 1);"
   ]
  },
  {
   "cell_type": "code",
   "execution_count": 28,
   "metadata": {},
   "outputs": [
    {
     "name": "stdout",
     "output_type": "stream",
     "text": [
      "Running AutoML regression experiment for 10 seconds...\n"
     ]
    }
   ],
   "source": [
    "private static IDataView trainDataView;\n",
    "private static IDataView testDataView;\n",
    "\n",
    "//Configuração do carregamento de dados         \n",
    "IDataView fullData = mlContext.Data.LoadFromTextFile<ModelInput>(path: housingPath, hasHeader: true, \n",
    "                                                                         separatorChar: ',', allowQuoting: true, allowSparse: false);\n",
    "\n",
    "// Divide o conjunto de dados em duas partes: TrainingDataset (80%) e TestDataset (20%)\n",
    "var trainTestData = mlContext.Data.TrainTestSplit(fullData, testFraction: 0.2);\n",
    "trainDataView = trainTestData.TrainSet;\n",
    "testDataView = trainTestData.TestSet;\n",
    "\n",
    "// STEP 2: Run AutoML experiment\n",
    "Console.WriteLine($\"Running AutoML regression experiment for {ExperimentTime} seconds...\");\n",
    "ExperimentResult<RegressionMetrics> experimentResult = mlContext.Auto()\n",
    "    .CreateRegressionExperiment(ExperimentTime)\n",
    "    .Execute(trainDataView,  \"Label\");"
   ]
  },
  {
   "cell_type": "code",
   "execution_count": 29,
   "metadata": {},
   "outputs": [
    {
     "name": "stdout",
     "output_type": "stream",
     "text": [
      "=====================================================\n",
      "Total models produced: 22\n",
      "  1 – TrainerName: SdcaRegression\n",
      "      Runtime In Seconds: 0,1672359\n",
      "\n",
      "MeanAbsoluteError: 51999,68646788991\n",
      "MeanSquaredError: 4905824324,479386\n",
      "RootMeanSquaredError: 70041,58996253145\n",
      "RSquared: 0,6266568200538869\n",
      "  2 – TrainerName: LightGbmRegression\n",
      "      Runtime In Seconds: 0,0656527\n",
      "\n"
     ]
    },
    {
     "ename": "Unhandled exception",
     "evalue": "System.NullReferenceException: Object reference not set to an instance of an object.\r\n   at Submission#30.PrintMetrics(RegressionMetrics metrics)\r\n   at Submission#36.<<Initialize>>d__0.MoveNext()\r\n--- End of stack trace from previous location where exception was thrown ---\r\n   at Microsoft.CodeAnalysis.Scripting.ScriptExecutionState.RunSubmissionsAsync[TResult](ImmutableArray`1 precedingExecutors, Func`2 currentExecutor, StrongBox`1 exceptionHolderOpt, Func`2 catchExceptionOpt, CancellationToken cancellationToken)",
     "output_type": "error",
     "traceback": [
      "System.NullReferenceException: Object reference not set to an instance of an object.\r\n   at Submission#30.PrintMetrics(RegressionMetrics metrics)\r\n   at Submission#36.<<Initialize>>d__0.MoveNext()\r\n--- End of stack trace from previous location where exception was thrown ---\r\n   at Microsoft.CodeAnalysis.Scripting.ScriptExecutionState.RunSubmissionsAsync[TResult](ImmutableArray`1 precedingExecutors, Func`2 currentExecutor, StrongBox`1 exceptionHolderOpt, Func`2 catchExceptionOpt, CancellationToken cancellationToken)",
      "   at Submission#30.PrintMetrics(RegressionMetrics metrics)",
      "   at Submission#36.<<Initialize>>d__0.MoveNext()",
      "--- End of stack trace from previous location where exception was thrown ---",
      "   at Microsoft.CodeAnalysis.Scripting.ScriptExecutionState.RunSubmissionsAsync[TResult](ImmutableArray`1 precedingExecutors, Func`2 currentExecutor, StrongBox`1 exceptionHolderOpt, Func`2 catchExceptionOpt, CancellationToken cancellationToken)"
     ]
    }
   ],
   "source": [
    "// STEP 3: Print metric from best model\n",
    "var bestRun = experimentResult.BestRun;\n",
    "Console.WriteLine($\"=====================================================\");\n",
    "Console.WriteLine($\"Total models produced: {experimentResult.RunDetails.Count()}\");\n",
    "\n",
    "var i = 0;\n",
    "foreach (var experimentResultRunDetail in experimentResult.RunDetails)\n",
    "{\n",
    "    i++;\n",
    "    Console.WriteLine($\"  {i} – TrainerName: {experimentResultRunDetail.TrainerName}\");\n",
    "    Console.WriteLine($\"      Runtime In Seconds: {experimentResultRunDetail.RuntimeInSeconds}\");\n",
    "    Console.WriteLine($\"\");\n",
    "    //PrintMetrics(experimentResultRunDetail.ValidationMetrics);\n",
    "}\n",
    "\n",
    "Console.WriteLine($\"\");\n",
    "Console.WriteLine($\"=====================================================\");\n",
    "Console.WriteLine($\"Best model's trainer: {bestRun.TrainerName}\");\n",
    "PrintMetrics(bestRun.ValidationMetrics);\n",
    "\n",
    "\n",
    "// STEP 5: Evaluate test data\n",
    "IDataView testDataViewWithBestScore = bestRun.Model.Transform(testDataView);\n",
    "RegressionMetrics testMetrics = mlContext.Regression.Evaluate(testDataViewWithBestScore, labelColumnName: LabelColumnName);\n",
    "Console.WriteLine($\"--\");\n",
    "Console.WriteLine($\"Metrics of best model on test data --\");\n",
    "Console.WriteLine($\"--\");\n",
    "PrintMetrics(testMetrics);\n",
    "\n",
    "// STEP 6: Save the best model for later deployment and inferencing\n",
    "using (FileStream fs = File.Create(ModelPath))\n",
    "    mlContext.Model.Save(bestRun.Model, trainDataView.Schema, fs);\n",
    "\n",
    "// STEP 7: Create prediction engine from the best trained model\n",
    "var predictionEngine = mlContext.Model.CreatePredictionEngine<ModelInput, ModelOutput>(bestRun.Model);\n",
    "\n",
    "// STEP 8: Initialize a new test taxi trip, and get the predicted fare\n",
    "var sampleData = new ModelInput()\n",
    "{\n",
    "    Longitude = -122.23F,\n",
    "    Latitude = 37.88F,\n",
    "    Housing_median_age = 41F,\n",
    "    Total_rooms = 880F,\n",
    "    Total_bedrooms = 129F,\n",
    "    Population = 322F,\n",
    "    Households = 126F,\n",
    "    Median_income = 8.3252F,\n",
    "    Ocean_proximity = @\"NEAR BAY\",\n",
    "};\n",
    "\n",
    "var resultprediction = predictionEngine.Predict (sampleData);\n",
    "\n",
    "Console.WriteLine($\"--\");\n",
    "Console.WriteLine(\"Usando o modelo para fazer predição única - Comparando o valor atual de Median_house_value com o valor previsto de para os dados de amostra de Median_house_value ... \\n \\n\");\n",
    "Console.WriteLine($\"Longitude: {sampleData.Longitude}\");\n",
    "Console.WriteLine($\"Latitude: {sampleData.Latitude}\");\n",
    "Console.WriteLine($\"Housing_median_age: {sampleData.Housing_median_age}\");\n",
    "Console.WriteLine($\"Total_rooms: {sampleData.Total_rooms}\");\n",
    "Console.WriteLine($\"Total_bedrooms: {sampleData.Total_bedrooms}\");\n",
    "Console.WriteLine($\"Population: {sampleData.Population}\");\n",
    "Console.WriteLine($\"Households: {sampleData.Households}\");\n",
    "Console.WriteLine($\"Median_income: {sampleData.Median_income}\");\n",
    "Console.WriteLine($\"Ocean_proximity: {sampleData.Ocean_proximity}\");\n",
    "Console.WriteLine ($\"\\n \\nO Preço previsto para este tamanho é: {resultprediction.Score} \\n \\n\");\n",
    "Console.WriteLine (\"=============== Fim do processo ===============\");"
   ]
  },
  {
   "cell_type": "code",
   "execution_count": null,
   "metadata": {},
   "outputs": [],
   "source": []
  }
 ],
 "metadata": {
  "kernelspec": {
   "display_name": ".NET (C#)",
   "language": "C#",
   "name": ".net-csharp"
  },
  "language_info": {
   "file_extension": ".cs",
   "mimetype": "text/x-csharp",
   "name": "C#",
   "pygments_lexer": "csharp",
   "version": "8.0"
  }
 },
 "nbformat": 4,
 "nbformat_minor": 4
}
