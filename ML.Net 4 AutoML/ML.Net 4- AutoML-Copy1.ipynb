{
 "cells": [
  {
   "cell_type": "markdown",
   "metadata": {},
   "source": [
    "<img align=\"Left\" alt=\"Dados_ao_Cubo\" src=\"../shared_content/DADOS-AO-CUBO-Versão-04-1.png\" />\n",
    "<img align=\"right\" alt=\"MLNet\" src=\"../shared_content/EJ3KsfJWsAEtDaZ.png\" />"
   ]
  },
  {
   "cell_type": "markdown",
   "metadata": {},
   "source": [
    "\n",
    "\n"
   ]
  },
  {
   "cell_type": "markdown",
   "metadata": {},
   "source": [
    "## Davi Ramos -> Cientista de Dados 👋\n",
    "(davi.info@gmail.com)\n",
    "\n",
    "[![Linkedin Badge](https://img.shields.io/badge/-LinkedIn-blue?style=flat-square&logo=Linkedin&logoColor=white&link=https://www.linkedin.com/in/davi-ramos/)](https://www.linkedin.com/in/davi-ramos/)\n",
    "[![Twitter Badge](https://img.shields.io/badge/-Twitter-1DA1F2?style=flat-square&logo=Twitter&logoColor=white&link=https://twitter.com/Daviinfo/)](https://twitter.com/Daviinfo/)\n",
    "<a href=\"https://github.com/DaviRamos\"><img src=\"https://img.shields.io/github/followers/DaviRamos.svg?label=GitHub&style=social\" alt=\"GitHub\"></a>"
   ]
  },
  {
   "cell_type": "markdown",
   "metadata": {},
   "source": [
    "# ML.Net - Auto ML"
   ]
  },
  {
   "cell_type": "markdown",
   "metadata": {},
   "source": [
    "## Este exemplo irá xxxxxx"
   ]
  },
  {
   "cell_type": "code",
   "execution_count": 1,
   "metadata": {},
   "outputs": [
    {
     "data": {
      "text/html": [
       "\r\n",
       "<div>\r\n",
       "    <div id='dotnet-interactive-this-cell-10d6829c45d74146b84f943baed17d09' style='display: none'>\r\n",
       "        The below script needs to be able to find the current output cell; this is an easy method to get it.\r\n",
       "    </div>\r\n",
       "    <script type='text/javascript'>\r\n",
       "// ensure `requirejs` is available globally\r\n",
       "if (typeof requirejs !== typeof Function || typeof requirejs.config !== typeof Function) {\r\n",
       "    let requirejs_script = document.createElement('script');\r\n",
       "    requirejs_script.setAttribute('src', 'https://cdnjs.cloudflare.com/ajax/libs/require.js/2.3.6/require.min.js');\r\n",
       "    requirejs_script.setAttribute('type', 'text/javascript');\r\n",
       "    requirejs_script.onload = function () {\r\n",
       "        loadDotnetInteractiveApi();\r\n",
       "    };\r\n",
       "\r\n",
       "    document.getElementsByTagName('head')[0].appendChild(requirejs_script);\r\n",
       "}\r\n",
       "else {\r\n",
       "    loadDotnetInteractiveApi();\r\n",
       "}\r\n",
       "\r\n",
       "async function probeAddresses(probingAddresses) {\r\n",
       "    function timeout(ms, promise) {\r\n",
       "        return new Promise(function (resolve, reject) {\r\n",
       "            setTimeout(function () {\r\n",
       "                reject(new Error('timeout'))\r\n",
       "            }, ms)\r\n",
       "            promise.then(resolve, reject)\r\n",
       "        })\r\n",
       "    }\r\n",
       "\r\n",
       "    if (Array.isArray(probingAddresses)) {\r\n",
       "        for (let i = 0; i < probingAddresses.length; i++) {\r\n",
       "\r\n",
       "            let rootUrl = probingAddresses[i];\r\n",
       "\r\n",
       "            if (!rootUrl.endsWith('/')) {\r\n",
       "                rootUrl = `${rootUrl}/`;\r\n",
       "            }\r\n",
       "\r\n",
       "            try {\r\n",
       "                let response = await timeout(1000, fetch(`${rootUrl}discovery`, {\r\n",
       "                    method: 'POST',\r\n",
       "                    timeout: 1000,\r\n",
       "                    headers: {\r\n",
       "                        'Content-Type': 'text/plain'\r\n",
       "                    },\r\n",
       "                    body: probingAddresses[i]\r\n",
       "                }));\r\n",
       "\r\n",
       "                if (response.status == 200) {\r\n",
       "                    return rootUrl;\r\n",
       "                }\r\n",
       "            }\r\n",
       "            catch (e) { }\r\n",
       "        }\r\n",
       "    }\r\n",
       "}\r\n",
       "\r\n",
       "function loadDotnetInteractiveApi() {\r\n",
       "    probeAddresses([\"http://192.168.100.5:1001/\", \"http://127.0.0.1:1001/\"])\r\n",
       "        .then((root) => {\r\n",
       "            // use probing to find host url and api resources\r\n",
       "            // load interactive helpers and language services\r\n",
       "            let dotnet_require = requirejs.config({\r\n",
       "                context: '21968.10d6829c45d74146b84f943baed17d09',\r\n",
       "                paths: {\r\n",
       "                    'dotnet-interactive': `${root}resources`\r\n",
       "                }\r\n",
       "            });\r\n",
       "            if (!window.dotnet_require) {\r\n",
       "                window.dotnet_require = dotnet_require;\r\n",
       "            }\r\n",
       "        \r\n",
       "            dotnet_require([\r\n",
       "                    'dotnet-interactive/dotnet-interactive'\r\n",
       "                ],\r\n",
       "                function (dotnet) {\r\n",
       "                    dotnet.init(window);\r\n",
       "                },\r\n",
       "                function (error) {\r\n",
       "                    console.log(error);\r\n",
       "                }\r\n",
       "            );\r\n",
       "        })\r\n",
       "        .catch(error => {console.log(error);});\r\n",
       "    }\r\n",
       "    </script>\r\n",
       "</div>"
      ]
     },
     "metadata": {},
     "output_type": "display_data"
    },
    {
     "data": {
      "text/plain": [
       "Installed package Microsoft.ML version 1.5.2"
      ]
     },
     "metadata": {},
     "output_type": "display_data"
    },
    {
     "data": {
      "text/plain": [
       "Installed package Microsoft.ML.AutoML version 0.17.2"
      ]
     },
     "metadata": {},
     "output_type": "display_data"
    }
   ],
   "source": [
    "// Instalar os Pacotes do Nuget\n",
    "\n",
    "// ML.NET\n",
    "#r \"nuget:Microsoft.ML\"  \n",
    "\n",
    "// ML.NET AutoML\n",
    "#r \"nuget:Microsoft.ML.AutoML\" "
   ]
  },
  {
   "cell_type": "code",
   "execution_count": 2,
   "metadata": {},
   "outputs": [],
   "source": [
    "using System;\n",
    "using System.IO;\n",
    "using System.Linq;\n",
    "using Microsoft.ML;\n",
    "using Microsoft.ML.AutoML;\n",
    "using Microsoft.ML.Data;\n",
    "\n",
    "using static Microsoft.ML.TrainCatalogBase;\n",
    "using static Microsoft.ML.DataOperationsCatalog;"
   ]
  },
  {
   "cell_type": "code",
   "execution_count": 3,
   "metadata": {},
   "outputs": [],
   "source": [
    "// Caminho dos arquivos\n",
    "string housingPath = \"./Datasets/Housing/housing.csv\";\n",
    "string ModelPath = @\"./HouseModelv3.zip\";\n",
    "private static string LabelColumnName = \"Label\";\n",
    "private static uint ExperimentTime = 10;"
   ]
  },
  {
   "cell_type": "code",
   "execution_count": 4,
   "metadata": {},
   "outputs": [],
   "source": [
    "public class ModelInput\n",
    "{\n",
    "    [LoadColumn(0)]\n",
    "    public float Longitude { get; set; }\n",
    "    [LoadColumn(1)]\n",
    "    public float Latitude { get; set; }\n",
    "    [LoadColumn(2)]\n",
    "    public float Housing_median_age { get; set; }\n",
    "    [LoadColumn(3)]\n",
    "    public float Total_rooms { get; set; }\n",
    "    [LoadColumn(4)]\n",
    "    public float Total_bedrooms { get; set; }\n",
    "    [LoadColumn(5)]\n",
    "    public float Population { get; set; }\n",
    "    [LoadColumn(6)]\n",
    "    public float Households { get; set; }\n",
    "    [LoadColumn(7)]\n",
    "    public float Median_income { get; set; }\n",
    "    [ColumnName(\"Label\"), LoadColumn(8)]\n",
    "    public float Median_house_value { get; set; }\n",
    "    [LoadColumn(9)]\n",
    "    public string Ocean_proximity { get; set; }\n",
    "}\n",
    "\n",
    "public class ModelOutput\n",
    "{\n",
    "    [ColumnName(\"Score\")]\n",
    "    public float Score { get; set; }\n",
    "}"
   ]
  },
  {
   "cell_type": "code",
   "execution_count": 5,
   "metadata": {},
   "outputs": [],
   "source": [
    "private static void PrintMetrics(RegressionMetrics metrics)\n",
    "{\n",
    "    Console.WriteLine($\"MeanAbsoluteError: {metrics.MeanAbsoluteError}\");\n",
    "    Console.WriteLine($\"MeanSquaredError: {metrics.MeanSquaredError}\");\n",
    "    Console.WriteLine($\"RootMeanSquaredError: {metrics.RootMeanSquaredError}\");\n",
    "    Console.WriteLine($\"RSquared: {metrics.RSquared}\");\n",
    "}"
   ]
  },
  {
   "cell_type": "code",
   "execution_count": 6,
   "metadata": {},
   "outputs": [],
   "source": [
    "// Criar o MLContext para ser compartilhado entre os objetos de fluxo de trabalho de criação do modelo\n",
    "// Definir uma semente aleatória para resultados repetíveis/determinísticos nos vários treinamentos.\n",
    "MLContext mlContext = new MLContext(seed: 1);"
   ]
  },
  {
   "cell_type": "code",
   "execution_count": 7,
   "metadata": {},
   "outputs": [
    {
     "name": "stdout",
     "output_type": "stream",
     "text": [
      "Running AutoML regression experiment for 10 seconds...\n"
     ]
    }
   ],
   "source": [
    "private static IDataView trainDataView;\n",
    "private static IDataView testDataView;\n",
    "\n",
    "//Configuração do carregamento de dados         \n",
    "IDataView fullData = mlContext.Data.LoadFromTextFile<ModelInput>(path: housingPath, hasHeader: true, \n",
    "                                                                         separatorChar: ',', allowQuoting: true, allowSparse: false);\n",
    "\n",
    "// Divide o conjunto de dados em duas partes: TrainingDataset (80%) e TestDataset (20%)\n",
    "var trainTestData = mlContext.Data.TrainTestSplit(fullData, testFraction: 0.2);\n",
    "trainDataView = trainTestData.TrainSet;\n",
    "testDataView = trainTestData.TestSet;\n",
    "\n",
    "// STEP 2: Run AutoML experiment\n",
    "Console.WriteLine($\"Running AutoML regression experiment for {ExperimentTime} seconds...\");\n",
    "ExperimentResult<RegressionMetrics> experimentResult = mlContext.Auto()\n",
    "    .CreateRegressionExperiment(ExperimentTime)\n",
    "    .Execute(trainDataView,  \"Label\");"
   ]
  },
  {
   "cell_type": "code",
   "execution_count": 8,
   "metadata": {},
   "outputs": [
    {
     "name": "stdout",
     "output_type": "stream",
     "text": [
      "Total models produced: 26\n",
      "Best model's trainer: FastTreeRegression\n",
      "--\n",
      "Metrics of best model from validation data --\n",
      "--\n",
      "MeanAbsoluteError: 31970,344956517583\n",
      "MeanSquaredError: 2264295999,1416245\n",
      "RootMeanSquaredError: 47584,61935480439\n",
      "RSquared: 0,8276824825461914\n",
      "--\n",
      "Metrics of best model on test data --\n",
      "--\n",
      "MeanAbsoluteError: 32457,33227556957\n",
      "MeanSquaredError: 2377334729,890651\n",
      "RootMeanSquaredError: 48757,91966327779\n",
      "RSquared: 0,8231534128038352\n",
      "--\n",
      "Usando o modelo para fazer predição única - Comparando o valor atual de Median_house_value com o valor previsto de para os dados de amostra de Median_house_value ... \n",
      " \n",
      "\n",
      "Longitude: -122,23\n",
      "Latitude: 37,88\n",
      "Housing_median_age: 41\n",
      "Total_rooms: 880\n",
      "Total_bedrooms: 129\n",
      "Population: 322\n",
      "Households: 126\n",
      "Median_income: 8,3252\n",
      "Ocean_proximity: NEAR BAY\n",
      "\n",
      " \n",
      "O Preço previsto para este tamanho é: 441550 \n",
      " \n",
      "\n",
      "=============== Fim do processo ===============\n"
     ]
    }
   ],
   "source": [
    "// STEP 3: Print metric from best model\n",
    "RunDetail<RegressionMetrics> bestRun = experimentResult.BestRun;\n",
    "Console.WriteLine($\"Total models produced: {experimentResult.RunDetails.Count()}\");\n",
    "Console.WriteLine($\"Best model's trainer: {bestRun.TrainerName}\");\n",
    "Console.WriteLine($\"--\");\n",
    "Console.WriteLine($\"Metrics of best model from validation data --\");\n",
    "Console.WriteLine($\"--\");\n",
    "PrintMetrics(bestRun.ValidationMetrics);\n",
    "\n",
    "// STEP 5: Evaluate test data\n",
    "IDataView testDataViewWithBestScore = bestRun.Model.Transform(testDataView);\n",
    "RegressionMetrics testMetrics = mlContext.Regression.Evaluate(testDataViewWithBestScore, labelColumnName: LabelColumnName);\n",
    "Console.WriteLine($\"--\");\n",
    "Console.WriteLine($\"Metrics of best model on test data --\");\n",
    "Console.WriteLine($\"--\");\n",
    "PrintMetrics(testMetrics);\n",
    "\n",
    "// STEP 6: Save the best model for later deployment and inferencing\n",
    "using (FileStream fs = File.Create(ModelPath))\n",
    "    mlContext.Model.Save(bestRun.Model, trainDataView.Schema, fs);\n",
    "\n",
    "// STEP 7: Create prediction engine from the best trained model\n",
    "var predictionEngine = mlContext.Model.CreatePredictionEngine<ModelInput, ModelOutput>(bestRun.Model);\n",
    "\n",
    "// STEP 8: Initialize a new test taxi trip, and get the predicted fare\n",
    "var sampleData = new ModelInput()\n",
    "{\n",
    "    Longitude = -122.23F,\n",
    "    Latitude = 37.88F,\n",
    "    Housing_median_age = 41F,\n",
    "    Total_rooms = 880F,\n",
    "    Total_bedrooms = 129F,\n",
    "    Population = 322F,\n",
    "    Households = 126F,\n",
    "    Median_income = 8.3252F,\n",
    "    Ocean_proximity = @\"NEAR BAY\",\n",
    "};\n",
    "\n",
    "var resultprediction = predictionEngine.Predict (sampleData);\n",
    "\n",
    "Console.WriteLine($\"--\");\n",
    "Console.WriteLine(\"Usando o modelo para fazer predição única - Comparando o valor atual de Median_house_value com o valor previsto de para os dados de amostra de Median_house_value ... \\n \\n\");\n",
    "Console.WriteLine($\"Longitude: {sampleData.Longitude}\");\n",
    "Console.WriteLine($\"Latitude: {sampleData.Latitude}\");\n",
    "Console.WriteLine($\"Housing_median_age: {sampleData.Housing_median_age}\");\n",
    "Console.WriteLine($\"Total_rooms: {sampleData.Total_rooms}\");\n",
    "Console.WriteLine($\"Total_bedrooms: {sampleData.Total_bedrooms}\");\n",
    "Console.WriteLine($\"Population: {sampleData.Population}\");\n",
    "Console.WriteLine($\"Households: {sampleData.Households}\");\n",
    "Console.WriteLine($\"Median_income: {sampleData.Median_income}\");\n",
    "Console.WriteLine($\"Ocean_proximity: {sampleData.Ocean_proximity}\");\n",
    "Console.WriteLine ($\"\\n \\nO Preço previsto para este tamanho é: {resultprediction.Score} \\n \\n\");\n",
    "Console.WriteLine (\"=============== Fim do processo ===============\");"
   ]
  },
  {
   "cell_type": "code",
   "execution_count": null,
   "metadata": {},
   "outputs": [],
   "source": []
  }
 ],
 "metadata": {
  "kernelspec": {
   "display_name": ".NET (C#)",
   "language": "C#",
   "name": ".net-csharp"
  },
  "language_info": {
   "file_extension": ".cs",
   "mimetype": "text/x-csharp",
   "name": "C#",
   "pygments_lexer": "csharp",
   "version": "8.0"
  }
 },
 "nbformat": 4,
 "nbformat_minor": 4
}
