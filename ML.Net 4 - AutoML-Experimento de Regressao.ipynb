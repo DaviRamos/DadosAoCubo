{
 "cells": [
  {
   "cell_type": "markdown",
   "metadata": {},
   "source": [
    "<img align=\"Left\" alt=\"Dados_ao_Cubo\" src=\"../shared_content/DADOS-AO-CUBO-Versão-04-1.png\" />\n",
    "<img align=\"right\" alt=\"MLNet\" src=\"../shared_content/EJ3KsfJWsAEtDaZ.png\" />"
   ]
  },
  {
   "cell_type": "markdown",
   "metadata": {},
   "source": [
    "\n",
    "\n"
   ]
  },
  {
   "cell_type": "markdown",
   "metadata": {},
   "source": [
    "## Davi Ramos -> Cientista de Dados 👋\n",
    "(davi.info@gmail.com)\n",
    "\n",
    "[![Linkedin Badge](https://img.shields.io/badge/-LinkedIn-blue?style=flat-square&logo=Linkedin&logoColor=white&link=https://www.linkedin.com/in/davi-ramos/)](https://www.linkedin.com/in/davi-ramos/)\n",
    "[![Twitter Badge](https://img.shields.io/badge/-Twitter-1DA1F2?style=flat-square&logo=Twitter&logoColor=white&link=https://twitter.com/Daviinfo/)](https://twitter.com/Daviinfo/)\n",
    "<a href=\"https://github.com/DaviRamos\"><img src=\"https://img.shields.io/github/followers/DaviRamos.svg?label=GitHub&style=social\" alt=\"GitHub\"></a>"
   ]
  },
  {
   "cell_type": "markdown",
   "metadata": {},
   "source": [
    "# ML.Net - Auto ML"
   ]
  },
  {
   "cell_type": "markdown",
   "metadata": {},
   "source": [
    "## Este exemplo irá demontrar o Uso de AutoML com ML.Net"
   ]
  },
  {
   "cell_type": "code",
   "execution_count": 1,
   "metadata": {},
   "outputs": [
    {
     "data": {
      "text/html": [
       "\r\n",
       "<div>\r\n",
       "    <div id='dotnet-interactive-this-cell-259ad756c907427691861bd4d829ed69' style='display: none'>\r\n",
       "        The below script needs to be able to find the current output cell; this is an easy method to get it.\r\n",
       "    </div>\r\n",
       "    <script type='text/javascript'>\r\n",
       "// ensure `requirejs` is available globally\r\n",
       "if (typeof requirejs !== typeof Function || typeof requirejs.config !== typeof Function) {\r\n",
       "    let requirejs_script = document.createElement('script');\r\n",
       "    requirejs_script.setAttribute('src', 'https://cdnjs.cloudflare.com/ajax/libs/require.js/2.3.6/require.min.js');\r\n",
       "    requirejs_script.setAttribute('type', 'text/javascript');\r\n",
       "    requirejs_script.onload = function () {\r\n",
       "        loadDotnetInteractiveApi();\r\n",
       "    };\r\n",
       "\r\n",
       "    document.getElementsByTagName('head')[0].appendChild(requirejs_script);\r\n",
       "}\r\n",
       "else {\r\n",
       "    loadDotnetInteractiveApi();\r\n",
       "}\r\n",
       "\r\n",
       "async function probeAddresses(probingAddresses) {\r\n",
       "    function timeout(ms, promise) {\r\n",
       "        return new Promise(function (resolve, reject) {\r\n",
       "            setTimeout(function () {\r\n",
       "                reject(new Error('timeout'))\r\n",
       "            }, ms)\r\n",
       "            promise.then(resolve, reject)\r\n",
       "        })\r\n",
       "    }\r\n",
       "\r\n",
       "    if (Array.isArray(probingAddresses)) {\r\n",
       "        for (let i = 0; i < probingAddresses.length; i++) {\r\n",
       "\r\n",
       "            let rootUrl = probingAddresses[i];\r\n",
       "\r\n",
       "            if (!rootUrl.endsWith('/')) {\r\n",
       "                rootUrl = `${rootUrl}/`;\r\n",
       "            }\r\n",
       "\r\n",
       "            try {\r\n",
       "                let response = await timeout(1000, fetch(`${rootUrl}discovery`, {\r\n",
       "                    method: 'POST',\r\n",
       "                    timeout: 1000,\r\n",
       "                    headers: {\r\n",
       "                        'Content-Type': 'text/plain'\r\n",
       "                    },\r\n",
       "                    body: probingAddresses[i]\r\n",
       "                }));\r\n",
       "\r\n",
       "                if (response.status == 200) {\r\n",
       "                    return rootUrl;\r\n",
       "                }\r\n",
       "            }\r\n",
       "            catch (e) { }\r\n",
       "        }\r\n",
       "    }\r\n",
       "}\r\n",
       "\r\n",
       "function loadDotnetInteractiveApi() {\r\n",
       "    probeAddresses([\"http://192.168.0.14:1000/\", \"http://127.0.0.1:1000/\"])\r\n",
       "        .then((root) => {\r\n",
       "            // use probing to find host url and api resources\r\n",
       "            // load interactive helpers and language services\r\n",
       "            let dotnet_require = requirejs.config({\r\n",
       "                context: '27532.259ad756c907427691861bd4d829ed69',\r\n",
       "                paths: {\r\n",
       "                    'dotnet-interactive': `${root}resources`\r\n",
       "                }\r\n",
       "            });\r\n",
       "            if (!window.dotnet_require) {\r\n",
       "                window.dotnet_require = dotnet_require;\r\n",
       "            }\r\n",
       "        \r\n",
       "            dotnet_require([\r\n",
       "                    'dotnet-interactive/dotnet-interactive'\r\n",
       "                ],\r\n",
       "                function (dotnet) {\r\n",
       "                    dotnet.init(window);\r\n",
       "                },\r\n",
       "                function (error) {\r\n",
       "                    console.log(error);\r\n",
       "                }\r\n",
       "            );\r\n",
       "        })\r\n",
       "        .catch(error => {console.log(error);});\r\n",
       "    }\r\n",
       "    </script>\r\n",
       "</div>"
      ]
     },
     "metadata": {},
     "output_type": "display_data"
    },
    {
     "data": {
      "text/plain": [
       "Installed package Microsoft.ML version 1.5.2"
      ]
     },
     "metadata": {},
     "output_type": "display_data"
    },
    {
     "data": {
      "text/plain": [
       "Installed package Microsoft.ML.AutoML version 0.17.2"
      ]
     },
     "metadata": {},
     "output_type": "display_data"
    }
   ],
   "source": [
    "// Instalar os Pacotes do Nuget\n",
    "\n",
    "// ML.NET\n",
    "#r \"nuget:Microsoft.ML\"  \n",
    "\n",
    "// ML.NET AutoML\n",
    "#r \"nuget:Microsoft.ML.AutoML\" "
   ]
  },
  {
   "cell_type": "code",
   "execution_count": 2,
   "metadata": {},
   "outputs": [],
   "source": [
    "using System;\n",
    "using System.IO;\n",
    "using System.Linq;\n",
    "using Microsoft.ML;\n",
    "using Microsoft.ML.AutoML;\n",
    "using Microsoft.ML.Data;\n",
    "\n",
    "using static Microsoft.ML.TrainCatalogBase;\n",
    "using static Microsoft.ML.DataOperationsCatalog;"
   ]
  },
  {
   "cell_type": "code",
   "execution_count": 3,
   "metadata": {},
   "outputs": [],
   "source": [
    "// Caminho dos arquivos\n",
    "string housingPath = \"./Datasets/Housing/housing.csv\";\n",
    "string ModelPath = @\"./HouseModelv3.zip\";\n",
    "private static uint ExperimentTime = 10;"
   ]
  },
  {
   "cell_type": "code",
   "execution_count": 4,
   "metadata": {},
   "outputs": [],
   "source": [
    "public class ModelInput\n",
    "{\n",
    "    [LoadColumn(0)]\n",
    "    public float Longitude { get; set; }\n",
    "    [LoadColumn(1)]\n",
    "    public float Latitude { get; set; }\n",
    "    [LoadColumn(2)]\n",
    "    public float Housing_median_age { get; set; }\n",
    "    [LoadColumn(3)]\n",
    "    public float Total_rooms { get; set; }\n",
    "    [LoadColumn(4)]\n",
    "    public float Total_bedrooms { get; set; }\n",
    "    [LoadColumn(5)]\n",
    "    public float Population { get; set; }\n",
    "    [LoadColumn(6)]\n",
    "    public float Households { get; set; }\n",
    "    [LoadColumn(7)]\n",
    "    public float Median_income { get; set; }\n",
    "    [ColumnName(\"Label\"), LoadColumn(8)]\n",
    "    public float Median_house_value { get; set; }\n",
    "    [LoadColumn(9)]\n",
    "    public string Ocean_proximity { get; set; }\n",
    "}\n",
    "\n",
    "public class ModelOutput\n",
    "{\n",
    "    [ColumnName(\"Score\")]\n",
    "    public float Score { get; set; }\n",
    "}"
   ]
  },
  {
   "cell_type": "code",
   "execution_count": 31,
   "metadata": {},
   "outputs": [],
   "source": [
    "private static void PrintMetrics(RegressionMetrics metrics)\n",
    "{\n",
    "    Console.WriteLine($\"MeanAbsoluteError: {metrics.MeanAbsoluteError:0.##}\");\n",
    "    Console.WriteLine($\"MeanSquaredError: {metrics.MeanSquaredError:0.##}\");\n",
    "    Console.WriteLine($\"RootMeanSquaredError: {metrics.RootMeanSquaredError:0.##}\");\n",
    "    Console.WriteLine($\"RSquared: {metrics.RSquared:0.##}\");\n",
    "}"
   ]
  },
  {
   "cell_type": "code",
   "execution_count": 6,
   "metadata": {},
   "outputs": [],
   "source": [
    "// Criar o MLContext para ser compartilhado entre os objetos de fluxo de trabalho de criação do modelo\n",
    "// Definir uma semente aleatória para resultados repetíveis/determinísticos nos vários treinamentos.\n",
    "MLContext mlContext = new MLContext(seed: 1);"
   ]
  },
  {
   "cell_type": "code",
   "execution_count": null,
   "metadata": {},
   "outputs": [
    {
     "name": "stdout",
     "output_type": "stream",
     "text": [
      "Running AutoML regression experiment for 10 seconds...\n",
      "Current Result – TrainerName: SdcaRegression,  Runtime In Seconds: 0,17, RSquared: 0,63, MeanAbsoluteError: 51479,47\n",
      "Current Result – TrainerName: SdcaRegression,  Runtime In Seconds: 0,1665812, RSquared: 0,6272549238572442, MeanAbsoluteError: 51479,46578746178\n",
      "Current Result – TrainerName: FastTreeRegression,  Runtime In Seconds: 0,29, RSquared: 0,83, MeanAbsoluteError: 31970,34\n",
      "Current Result – TrainerName: FastTreeRegression,  Runtime In Seconds: 0,2891977, RSquared: 0,8276824825461914, MeanAbsoluteError: 31970,344956517583\n",
      "Current Result – TrainerName: FastTreeTweedieRegression,  Runtime In Seconds: 0,34, RSquared: 0,82, MeanAbsoluteError: 32635,12\n",
      "Current Result – TrainerName: FastTreeTweedieRegression,  Runtime In Seconds: 0,3369162, RSquared: 0,8216709829703559, MeanAbsoluteError: 32635,116353688838\n",
      "Current Result – TrainerName: FastForestRegression,  Runtime In Seconds: 0,42, RSquared: 0,66, MeanAbsoluteError: 49037,01\n",
      "Current Result – TrainerName: FastForestRegression,  Runtime In Seconds: 0,4183961, RSquared: 0,6647401290673212, MeanAbsoluteError: 49037,0146358945\n",
      "Current Result – TrainerName: LbfgsPoissonRegression,  Runtime In Seconds: 0,18, RSquared: 0,62, MeanAbsoluteError: 50304,23\n",
      "Current Result – TrainerName: LbfgsPoissonRegression,  Runtime In Seconds: 0,1829384, RSquared: 0,623092389750161, MeanAbsoluteError: 50304,22777976873\n",
      "Current Result – TrainerName: OnlineGradientDescentRegression,  Runtime In Seconds: 0,09, RSquared: 0,47, MeanAbsoluteError: 63352,35\n",
      "Current Result – TrainerName: OnlineGradientDescentRegression,  Runtime In Seconds: 0,0932865, RSquared: 0,46819741236686196, MeanAbsoluteError: 63352,34620126147\n",
      "Current Result – TrainerName: FastTreeRegression,  Runtime In Seconds: 2,83, RSquared: 0,24, MeanAbsoluteError: 76085,47\n",
      "Current Result – TrainerName: FastTreeRegression,  Runtime In Seconds: 2,8322695, RSquared: 0,2353761774617844, MeanAbsoluteError: 76085,47157874618\n",
      "Current Result – TrainerName: FastTreeTweedieRegression,  Runtime In Seconds: 0,66, RSquared: -2,58, MeanAbsoluteError: 187879,96\n",
      "Current Result – TrainerName: FastTreeTweedieRegression,  Runtime In Seconds: 0,6618332, RSquared: -2,583553765553586, MeanAbsoluteError: 187879,95651997323\n",
      "Current Result – TrainerName: FastForestRegression,  Runtime In Seconds: 0,21, RSquared: 0,44, MeanAbsoluteError: 65661,88\n",
      "Current Result – TrainerName: FastForestRegression,  Runtime In Seconds: 0,2057677, RSquared: 0,4440405379085395, MeanAbsoluteError: 65661,88054281345\n",
      "Current Result – TrainerName: FastTreeRegression,  Runtime In Seconds: 0,51, RSquared: 0,82, MeanAbsoluteError: 33254,86\n",
      "Current Result – TrainerName: FastTreeRegression,  Runtime In Seconds: 0,5084005, RSquared: 0,8162622729575651, MeanAbsoluteError: 33254,8585555237\n",
      "Current Result – TrainerName: FastTreeTweedieRegression,  Runtime In Seconds: 0,23, RSquared: -2,56, MeanAbsoluteError: 185483,17\n",
      "Current Result – TrainerName: FastTreeTweedieRegression,  Runtime In Seconds: 0,2311261, RSquared: -2,556959810059334, MeanAbsoluteError: 185483,17021573966\n",
      "Current Result – TrainerName: FastForestRegression,  Runtime In Seconds: 0,34, RSquared: 0,78, MeanAbsoluteError: 38410,57\n",
      "Current Result – TrainerName: FastForestRegression,  Runtime In Seconds: 0,3410024, RSquared: 0,7754362000647532, MeanAbsoluteError: 38410,56702981651\n",
      "Current Result – TrainerName: FastTreeRegression,  Runtime In Seconds: 0,28, RSquared: 0,68, MeanAbsoluteError: 45066,87\n",
      "Current Result – TrainerName: FastTreeRegression,  Runtime In Seconds: 0,276552, RSquared: 0,6795004621335634, MeanAbsoluteError: 45066,87338016055\n",
      "Current Result – TrainerName: FastTreeTweedieRegression,  Runtime In Seconds: 1,49, RSquared: -2,58, MeanAbsoluteError: 187503,58\n",
      "Current Result – TrainerName: FastTreeTweedieRegression,  Runtime In Seconds: 1,4863246, RSquared: -2,581197657717909, MeanAbsoluteError: 187503,58318520643\n",
      "Current Result – TrainerName: FastForestRegression,  Runtime In Seconds: 0,2, RSquared: 0,68, MeanAbsoluteError: 47787,58\n",
      "Current Result – TrainerName: FastForestRegression,  Runtime In Seconds: 0,2020491, RSquared: 0,6763463033820402, MeanAbsoluteError: 47787,584566131496\n",
      "Current Result – TrainerName: FastTreeRegression,  Runtime In Seconds: 0,14, RSquared: 0,47, MeanAbsoluteError: 59043,25\n",
      "Current Result – TrainerName: FastTreeRegression,  Runtime In Seconds: 0,1390923, RSquared: 0,47014820355015163, MeanAbsoluteError: 59043,25359327217\n",
      "Current Result – TrainerName: FastTreeTweedieRegression,  Runtime In Seconds: 0,31, RSquared: -3,24, MeanAbsoluteError: 206339,56\n",
      "Current Result – TrainerName: FastTreeTweedieRegression,  Runtime In Seconds: 0,3149188, RSquared: -3,2399009126067675, MeanAbsoluteError: 206339,55928068014\n",
      "Current Result – TrainerName: FastForestRegression,  Runtime In Seconds: 1,06, RSquared: 0,63, MeanAbsoluteError: 52398,76\n",
      "Current Result – TrainerName: FastForestRegression,  Runtime In Seconds: 1,0635672, RSquared: 0,6276419038081449, MeanAbsoluteError: 52398,76270068807\n",
      "Current Result – TrainerName: FastTreeRegression,  Runtime In Seconds: 0,18, RSquared: -1,23, MeanAbsoluteError: 143340,72\n",
      "Current Result – TrainerName: FastTreeRegression,  Runtime In Seconds: 0,1752056, RSquared: -1,2329842573003464, MeanAbsoluteError: 143340,7173786315\n"
     ]
    }
   ],
   "source": [
    "private static IDataView trainDataView;\n",
    "private static IDataView testDataView;\n",
    "\n",
    "//Configuração do carregamento de dados         \n",
    "IDataView fullData = mlContext.Data.LoadFromTextFile<ModelInput>(path: housingPath, hasHeader: true, \n",
    "                                                                         separatorChar: ',', allowQuoting: true, allowSparse: false);\n",
    "\n",
    "// Divide o conjunto de dados em duas partes: TrainingDataset (80%) e TestDataset (20%)\n",
    "var trainTestData = mlContext.Data.TrainTestSplit(fullData, testFraction: 0.2);\n",
    "trainDataView = trainTestData.TrainSet;\n",
    "testDataView = trainTestData.TestSet;\n",
    "\n",
    "// STEP 2: Run AutoML experiment\n",
    "Console.WriteLine($\"Running AutoML regression experiment for {ExperimentTime} seconds...\");\n",
    "\n",
    "var settings = new RegressionExperimentSettings\n",
    "           {\n",
    "               MaxExperimentTimeInSeconds = ExperimentTime,\n",
    "               OptimizingMetric = RegressionMetric.MeanAbsoluteError\n",
    "           };\n",
    "\n",
    "var labelColumnInfo = new ColumnInformation()\n",
    "{\n",
    "    LabelColumnName = \"Label\"\n",
    "};\n",
    "\n",
    "var progress = new Progress<RunDetail<RegressionMetrics>>(p => \n",
    "{\n",
    "    if (p.ValidationMetrics != null)\n",
    "    {    \n",
    "        Console.WriteLine($\"Current Result – TrainerName: {p.TrainerName},  Runtime In Seconds: {p.RuntimeInSeconds:0.##}, RSquared: {p.ValidationMetrics.RSquared:0.##}, MeanAbsoluteError: {p.ValidationMetrics.MeanAbsoluteError:0.##}\");\n",
    "        //Console.WriteLine($\"Current Result – TrainerName: {p.TrainerName},  Runtime In Seconds: {p.RuntimeInSeconds}, RSquared: {p.ValidationMetrics.RSquared}, MeanAbsoluteError: {p.ValidationMetrics.MeanAbsoluteError}\");\n",
    "    }\n",
    "});\n",
    "\n",
    "\n",
    "var experiment = mlContext.Auto().CreateRegressionExperiment(settings);\n",
    "\n",
    "var experimentResult = experiment.Execute(trainDataView, labelColumnInfo, progressHandler: progress);"
   ]
  },
  {
   "cell_type": "code",
   "execution_count": 32,
   "metadata": {},
   "outputs": [
    {
     "name": "stdout",
     "output_type": "stream",
     "text": [
      "=====================================================\n",
      "Total models produced: 18 --> Best model's trainer: FastTreeRegression\n",
      "Métricas --\n",
      "MeanAbsoluteError: 31970,34\n",
      "MeanSquaredError: 2264295999,14\n",
      "RootMeanSquaredError: 47584,62\n",
      "RSquared: 0,83\n"
     ]
    }
   ],
   "source": [
    "// STEP 3: Print metric from best model\n",
    "var bestRun = experimentResult.BestRun;\n",
    "Console.WriteLine($\"=====================================================\");\n",
    "Console.WriteLine($\"Total models produced: {experimentResult.RunDetails.Count()} --> Best model's trainer: {bestRun.TrainerName}\");\n",
    "Console.WriteLine($\"Métricas --\");\n",
    "PrintMetrics(bestRun.ValidationMetrics);"
   ]
  },
  {
   "cell_type": "code",
   "execution_count": 39,
   "metadata": {},
   "outputs": [
    {
     "name": "stdout",
     "output_type": "stream",
     "text": [
      "Metrics of best model on test data --\n",
      "MeanAbsoluteError: 32457,33\n",
      "MeanSquaredError: 2377334729,89\n",
      "RootMeanSquaredError: 48757,92\n",
      "RSquared: 0,82\n"
     ]
    }
   ],
   "source": [
    "// STEP 5: Evaluate test data\n",
    "IDataView testDataViewWithBestScore = bestRun.Model.Transform(testDataView);\n",
    "RegressionMetrics testMetrics = mlContext.Regression.Evaluate(testDataViewWithBestScore, labelColumnName: \"Label\");\n",
    "\n",
    "Console.WriteLine($\"Metrics of best model on test data --\");\n",
    "//Console.WriteLine(Environment.NewLine);\n",
    "PrintMetrics(testMetrics);"
   ]
  },
  {
   "cell_type": "code",
   "execution_count": 13,
   "metadata": {},
   "outputs": [],
   "source": [
    "// STEP 6: Save the best model for later deployment and inferencing\n",
    "using (FileStream fs = File.Create(ModelPath))\n",
    "    mlContext.Model.Save(bestRun.Model, trainDataView.Schema, fs);"
   ]
  },
  {
   "cell_type": "code",
   "execution_count": 24,
   "metadata": {},
   "outputs": [
    {
     "name": "stdout",
     "output_type": "stream",
     "text": [
      "Utilizando os dados abaixo: \n",
      "\n",
      "\n",
      "Longitude: -122,23\n",
      "Latitude: 37,88\n",
      "Housing_median_age: 41\n",
      "Total_rooms: 880\n",
      "Total_bedrooms: 129\n",
      "Population: 322\n",
      "Households: 126\n",
      "Median_income: 8,3252\n",
      "Ocean_proximity: NEAR BAY\n",
      "\n",
      "\n",
      "O Preço previsto para este imóvel é: 462156,66\n"
     ]
    }
   ],
   "source": [
    "// STEP 7: Create prediction engine from the best trained model\n",
    "var predictionEngine = mlContext.Model.CreatePredictionEngine<ModelInput, ModelOutput>(bestRun.Model);\n",
    "\n",
    "// STEP 8: Initialize a new test taxi trip, and get the predicted fare\n",
    "var sampleData = new ModelInput()\n",
    "{\n",
    "    Longitude = -122.23F,\n",
    "    Latitude = 37.88F,\n",
    "    Housing_median_age = 41F,\n",
    "    Total_rooms = 880F,\n",
    "    Total_bedrooms = 129F,\n",
    "    Population = 322F,\n",
    "    Households = 126F,\n",
    "    Median_income = 8.3252F,\n",
    "    Ocean_proximity = @\"NEAR BAY\",\n",
    "};\n",
    "\n",
    "var resultprediction = predictionEngine.Predict (sampleData);\n",
    "\n",
    "Console.WriteLine(\"Utilizando os dados abaixo: \");\n",
    "Console.WriteLine(Environment.NewLine);\n",
    "Console.WriteLine($\"Longitude: {sampleData.Longitude}\");\n",
    "Console.WriteLine($\"Latitude: {sampleData.Latitude}\");\n",
    "Console.WriteLine($\"Housing_median_age: {sampleData.Housing_median_age}\");\n",
    "Console.WriteLine($\"Total_rooms: {sampleData.Total_rooms}\");\n",
    "Console.WriteLine($\"Total_bedrooms: {sampleData.Total_bedrooms}\");\n",
    "Console.WriteLine($\"Population: {sampleData.Population}\");\n",
    "Console.WriteLine($\"Households: {sampleData.Households}\");\n",
    "Console.WriteLine($\"Median_income: {sampleData.Median_income}\");\n",
    "Console.WriteLine($\"Ocean_proximity: {sampleData.Ocean_proximity}\");\n",
    "Console.WriteLine(Environment.NewLine);\n",
    "Console.WriteLine ($\"O Preço previsto para este imóvel é: {resultprediction.Score}\");"
   ]
  },
  {
   "cell_type": "code",
   "execution_count": null,
   "metadata": {},
   "outputs": [],
   "source": []
  }
 ],
 "metadata": {
  "kernelspec": {
   "display_name": ".NET (C#)",
   "language": "C#",
   "name": ".net-csharp"
  },
  "language_info": {
   "file_extension": ".cs",
   "mimetype": "text/x-csharp",
   "name": "C#",
   "pygments_lexer": "csharp",
   "version": "8.0"
  }
 },
 "nbformat": 4,
 "nbformat_minor": 4
}
